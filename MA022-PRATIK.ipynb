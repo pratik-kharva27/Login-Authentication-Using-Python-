{
 "cells": [
  {
   "cell_type": "markdown",
   "id": "4d871d1e",
   "metadata": {},
   "source": [
    "<h1>Roll No:-MA022<br>\n",
    "Name:-Pratik Kharva</h1>"
   ]
  },
  {
   "cell_type": "markdown",
   "id": "1307fd17",
   "metadata": {},
   "source": [
    "<h2>Termwork Topic</h2>"
   ]
  },
  {
   "cell_type": "markdown",
   "id": "eeb845ae",
   "metadata": {},
   "source": [
    "<h1>Title: - Login Authentication using Python</h1>"
   ]
  },
  {
   "cell_type": "markdown",
   "id": "ccbda74d",
   "metadata": {},
   "source": [
    "<h2>Problem Statement</h2>\n",
    "<p>i have creating a basic login authentication system for a web application. The system should allow users to register and log in using their credentials.</p>"
   ]
  },
  {
   "cell_type": "markdown",
   "id": "88966c94",
   "metadata": {},
   "source": [
    "<h2>Expected outcomes/output.</h2>"
   ]
  },
  {
   "cell_type": "markdown",
   "id": "49550eec",
   "metadata": {},
   "source": [
    "This simple authentication system allows users to register and log in. User credentials are stored in a dictionary. the user is presented with options to register, log in, or exit. After successful registration, the user is able to log in using their Password. If incorrect Password are provided during login, an error message is displayed. The user can also choose to exit the system. "
   ]
  },
  {
   "cell_type": "markdown",
   "id": "d3b70f3b",
   "metadata": {},
   "source": [
    "<h2>Tentative steps/flow:</h2>\n",
    "<ol>\n",
    "    <li> Register </li>\n",
    "    <li> Login </li>\n",
    "    <li> Forgot Password </li>\n",
    "    <li> Quite </li>\n",
    "</ol>"
   ]
  },
  {
   "cell_type": "code",
   "execution_count": null,
   "id": "e99d2c8b",
   "metadata": {},
   "outputs": [],
   "source": []
  }
 ],
 "metadata": {
  "kernelspec": {
   "display_name": "Python 3 (ipykernel)",
   "language": "python",
   "name": "python3"
  },
  "language_info": {
   "codemirror_mode": {
    "name": "ipython",
    "version": 3
   },
   "file_extension": ".py",
   "mimetype": "text/x-python",
   "name": "python",
   "nbconvert_exporter": "python",
   "pygments_lexer": "ipython3",
   "version": "3.10.9"
  }
 },
 "nbformat": 4,
 "nbformat_minor": 5
}
